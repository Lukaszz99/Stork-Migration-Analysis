{
 "cells": [
  {
   "cell_type": "code",
   "execution_count": 55,
   "id": "initial_id",
   "metadata": {
    "collapsed": true,
    "ExecuteTime": {
     "end_time": "2024-01-12T21:06:56.855661100Z",
     "start_time": "2024-01-12T21:06:56.835656Z"
    }
   },
   "outputs": [],
   "source": [
    "import pandas as pd"
   ]
  },
  {
   "cell_type": "code",
   "execution_count": 56,
   "outputs": [],
   "source": [
    "df = pd.read_csv(\"LifeTrack_white_stork_clean.zip\")"
   ],
   "metadata": {
    "collapsed": false,
    "ExecuteTime": {
     "end_time": "2024-01-12T21:06:58.682925600Z",
     "start_time": "2024-01-12T21:06:57.028040400Z"
    }
   },
   "id": "5ff87554d841e7ab"
  },
  {
   "cell_type": "code",
   "execution_count": 57,
   "outputs": [
    {
     "data": {
      "text/plain": "                      event-id  timestamp  location-long  location-lat  \\\ntag-local-identifier                                                     \n3048                     74819      74819          74819         74819   \n3050                     61507      61507          61507         61507   \n3056                     10445      10445          10445         10445   \n3075                      7665       7665           7665          7665   \n3950                     12325      12325          12325         12325   \n3951                     98508      98508          98508         98508   \n3952                     74290      74290          74290         74290   \n3953                     22143      22143          22143         22143   \n3954                     96382      96382          96382         96382   \n3955                    103046     103046         103046        103046   \n3956                      8753       8753           8753          8753   \n3957                     50167      50167          50167         50167   \n3958                      9857       9857           9857          9857   \n3959                      9480       9480           9480          9480   \n4552                      7230       7230           7230          7230   \n4553                     11302      11302          11302         11302   \n4554                      6838       6838           6838          6838   \n4555                      9347       9347           9347          9347   \n4556                     12617      12617          12617         12617   \n4557                     14179      14179          14179         14179   \n4558                     15134      15134          15134         15134   \n4559                     17901      17901          17901         17901   \n4570                     14036      14036          14036         14036   \n4571                      3704       3704           3704          3704   \n\n                      ground-speed  height-above-ellipsoid  \\\ntag-local-identifier                                         \n3048                         71264                   71264   \n3050                         59222                   59222   \n3056                          9310                    9310   \n3075                          6775                    6775   \n3950                         12310                   12310   \n3951                         98023                   98023   \n3952                         74285                   74285   \n3953                         21927                   21927   \n3954                         96112                   96112   \n3955                        102425                  102425   \n3956                          8753                    8753   \n3957                         50122                   50122   \n3958                          9852                    9852   \n3959                          9480                    9480   \n4552                          7060                    7060   \n4553                         11047                   11047   \n4554                          6684                    6684   \n4555                          9142                    9142   \n4556                         12402                   12402   \n4557                         13834                   13834   \n4558                         14749                   14749   \n4559                         17491                   17491   \n4570                         13721                   13721   \n4571                          3614                    3614   \n\n                      individual-taxon-canonical-name  eobs:temperature  \\\ntag-local-identifier                                                      \n3048                                            74819             71264   \n3050                                            61507             59222   \n3056                                            10445              9310   \n3075                                             7665              6775   \n3950                                            12325             12310   \n3951                                            98508             98023   \n3952                                            74290             74285   \n3953                                            22143             21927   \n3954                                            96382             96112   \n3955                                           103046            102425   \n3956                                             8753              8753   \n3957                                            50167             50122   \n3958                                             9857              9852   \n3959                                             9480              9480   \n4552                                             7230              7060   \n4553                                            11302             11047   \n4554                                             6838              6684   \n4555                                             9347              9142   \n4556                                            12617             12402   \n4557                                            14179             13834   \n4558                                            15134             14749   \n4559                                            17901             17491   \n4570                                            14036             13721   \n4571                                             3704              3614   \n\n                      individual-local-identifier    date  \ntag-local-identifier                                       \n3048                                        74819   74819  \n3050                                        61507   61507  \n3056                                        10445   10445  \n3075                                         7665    7665  \n3950                                        12325   12325  \n3951                                        98508   98508  \n3952                                        74290   74290  \n3953                                        22143   22143  \n3954                                        96382   96382  \n3955                                       103046  103046  \n3956                                         8753    8753  \n3957                                        50167   50167  \n3958                                         9857    9857  \n3959                                         9480    9480  \n4552                                         7230    7230  \n4553                                        11302   11302  \n4554                                         6838    6838  \n4555                                         9347    9347  \n4556                                        12617   12617  \n4557                                        14179   14179  \n4558                                        15134   15134  \n4559                                        17901   17901  \n4570                                        14036   14036  \n4571                                         3704    3704  ",
      "text/html": "<div>\n<style scoped>\n    .dataframe tbody tr th:only-of-type {\n        vertical-align: middle;\n    }\n\n    .dataframe tbody tr th {\n        vertical-align: top;\n    }\n\n    .dataframe thead th {\n        text-align: right;\n    }\n</style>\n<table border=\"1\" class=\"dataframe\">\n  <thead>\n    <tr style=\"text-align: right;\">\n      <th></th>\n      <th>event-id</th>\n      <th>timestamp</th>\n      <th>location-long</th>\n      <th>location-lat</th>\n      <th>ground-speed</th>\n      <th>height-above-ellipsoid</th>\n      <th>individual-taxon-canonical-name</th>\n      <th>eobs:temperature</th>\n      <th>individual-local-identifier</th>\n      <th>date</th>\n    </tr>\n    <tr>\n      <th>tag-local-identifier</th>\n      <th></th>\n      <th></th>\n      <th></th>\n      <th></th>\n      <th></th>\n      <th></th>\n      <th></th>\n      <th></th>\n      <th></th>\n      <th></th>\n    </tr>\n  </thead>\n  <tbody>\n    <tr>\n      <th>3048</th>\n      <td>74819</td>\n      <td>74819</td>\n      <td>74819</td>\n      <td>74819</td>\n      <td>71264</td>\n      <td>71264</td>\n      <td>74819</td>\n      <td>71264</td>\n      <td>74819</td>\n      <td>74819</td>\n    </tr>\n    <tr>\n      <th>3050</th>\n      <td>61507</td>\n      <td>61507</td>\n      <td>61507</td>\n      <td>61507</td>\n      <td>59222</td>\n      <td>59222</td>\n      <td>61507</td>\n      <td>59222</td>\n      <td>61507</td>\n      <td>61507</td>\n    </tr>\n    <tr>\n      <th>3056</th>\n      <td>10445</td>\n      <td>10445</td>\n      <td>10445</td>\n      <td>10445</td>\n      <td>9310</td>\n      <td>9310</td>\n      <td>10445</td>\n      <td>9310</td>\n      <td>10445</td>\n      <td>10445</td>\n    </tr>\n    <tr>\n      <th>3075</th>\n      <td>7665</td>\n      <td>7665</td>\n      <td>7665</td>\n      <td>7665</td>\n      <td>6775</td>\n      <td>6775</td>\n      <td>7665</td>\n      <td>6775</td>\n      <td>7665</td>\n      <td>7665</td>\n    </tr>\n    <tr>\n      <th>3950</th>\n      <td>12325</td>\n      <td>12325</td>\n      <td>12325</td>\n      <td>12325</td>\n      <td>12310</td>\n      <td>12310</td>\n      <td>12325</td>\n      <td>12310</td>\n      <td>12325</td>\n      <td>12325</td>\n    </tr>\n    <tr>\n      <th>3951</th>\n      <td>98508</td>\n      <td>98508</td>\n      <td>98508</td>\n      <td>98508</td>\n      <td>98023</td>\n      <td>98023</td>\n      <td>98508</td>\n      <td>98023</td>\n      <td>98508</td>\n      <td>98508</td>\n    </tr>\n    <tr>\n      <th>3952</th>\n      <td>74290</td>\n      <td>74290</td>\n      <td>74290</td>\n      <td>74290</td>\n      <td>74285</td>\n      <td>74285</td>\n      <td>74290</td>\n      <td>74285</td>\n      <td>74290</td>\n      <td>74290</td>\n    </tr>\n    <tr>\n      <th>3953</th>\n      <td>22143</td>\n      <td>22143</td>\n      <td>22143</td>\n      <td>22143</td>\n      <td>21927</td>\n      <td>21927</td>\n      <td>22143</td>\n      <td>21927</td>\n      <td>22143</td>\n      <td>22143</td>\n    </tr>\n    <tr>\n      <th>3954</th>\n      <td>96382</td>\n      <td>96382</td>\n      <td>96382</td>\n      <td>96382</td>\n      <td>96112</td>\n      <td>96112</td>\n      <td>96382</td>\n      <td>96112</td>\n      <td>96382</td>\n      <td>96382</td>\n    </tr>\n    <tr>\n      <th>3955</th>\n      <td>103046</td>\n      <td>103046</td>\n      <td>103046</td>\n      <td>103046</td>\n      <td>102425</td>\n      <td>102425</td>\n      <td>103046</td>\n      <td>102425</td>\n      <td>103046</td>\n      <td>103046</td>\n    </tr>\n    <tr>\n      <th>3956</th>\n      <td>8753</td>\n      <td>8753</td>\n      <td>8753</td>\n      <td>8753</td>\n      <td>8753</td>\n      <td>8753</td>\n      <td>8753</td>\n      <td>8753</td>\n      <td>8753</td>\n      <td>8753</td>\n    </tr>\n    <tr>\n      <th>3957</th>\n      <td>50167</td>\n      <td>50167</td>\n      <td>50167</td>\n      <td>50167</td>\n      <td>50122</td>\n      <td>50122</td>\n      <td>50167</td>\n      <td>50122</td>\n      <td>50167</td>\n      <td>50167</td>\n    </tr>\n    <tr>\n      <th>3958</th>\n      <td>9857</td>\n      <td>9857</td>\n      <td>9857</td>\n      <td>9857</td>\n      <td>9852</td>\n      <td>9852</td>\n      <td>9857</td>\n      <td>9852</td>\n      <td>9857</td>\n      <td>9857</td>\n    </tr>\n    <tr>\n      <th>3959</th>\n      <td>9480</td>\n      <td>9480</td>\n      <td>9480</td>\n      <td>9480</td>\n      <td>9480</td>\n      <td>9480</td>\n      <td>9480</td>\n      <td>9480</td>\n      <td>9480</td>\n      <td>9480</td>\n    </tr>\n    <tr>\n      <th>4552</th>\n      <td>7230</td>\n      <td>7230</td>\n      <td>7230</td>\n      <td>7230</td>\n      <td>7060</td>\n      <td>7060</td>\n      <td>7230</td>\n      <td>7060</td>\n      <td>7230</td>\n      <td>7230</td>\n    </tr>\n    <tr>\n      <th>4553</th>\n      <td>11302</td>\n      <td>11302</td>\n      <td>11302</td>\n      <td>11302</td>\n      <td>11047</td>\n      <td>11047</td>\n      <td>11302</td>\n      <td>11047</td>\n      <td>11302</td>\n      <td>11302</td>\n    </tr>\n    <tr>\n      <th>4554</th>\n      <td>6838</td>\n      <td>6838</td>\n      <td>6838</td>\n      <td>6838</td>\n      <td>6684</td>\n      <td>6684</td>\n      <td>6838</td>\n      <td>6684</td>\n      <td>6838</td>\n      <td>6838</td>\n    </tr>\n    <tr>\n      <th>4555</th>\n      <td>9347</td>\n      <td>9347</td>\n      <td>9347</td>\n      <td>9347</td>\n      <td>9142</td>\n      <td>9142</td>\n      <td>9347</td>\n      <td>9142</td>\n      <td>9347</td>\n      <td>9347</td>\n    </tr>\n    <tr>\n      <th>4556</th>\n      <td>12617</td>\n      <td>12617</td>\n      <td>12617</td>\n      <td>12617</td>\n      <td>12402</td>\n      <td>12402</td>\n      <td>12617</td>\n      <td>12402</td>\n      <td>12617</td>\n      <td>12617</td>\n    </tr>\n    <tr>\n      <th>4557</th>\n      <td>14179</td>\n      <td>14179</td>\n      <td>14179</td>\n      <td>14179</td>\n      <td>13834</td>\n      <td>13834</td>\n      <td>14179</td>\n      <td>13834</td>\n      <td>14179</td>\n      <td>14179</td>\n    </tr>\n    <tr>\n      <th>4558</th>\n      <td>15134</td>\n      <td>15134</td>\n      <td>15134</td>\n      <td>15134</td>\n      <td>14749</td>\n      <td>14749</td>\n      <td>15134</td>\n      <td>14749</td>\n      <td>15134</td>\n      <td>15134</td>\n    </tr>\n    <tr>\n      <th>4559</th>\n      <td>17901</td>\n      <td>17901</td>\n      <td>17901</td>\n      <td>17901</td>\n      <td>17491</td>\n      <td>17491</td>\n      <td>17901</td>\n      <td>17491</td>\n      <td>17901</td>\n      <td>17901</td>\n    </tr>\n    <tr>\n      <th>4570</th>\n      <td>14036</td>\n      <td>14036</td>\n      <td>14036</td>\n      <td>14036</td>\n      <td>13721</td>\n      <td>13721</td>\n      <td>14036</td>\n      <td>13721</td>\n      <td>14036</td>\n      <td>14036</td>\n    </tr>\n    <tr>\n      <th>4571</th>\n      <td>3704</td>\n      <td>3704</td>\n      <td>3704</td>\n      <td>3704</td>\n      <td>3614</td>\n      <td>3614</td>\n      <td>3704</td>\n      <td>3614</td>\n      <td>3704</td>\n      <td>3704</td>\n    </tr>\n  </tbody>\n</table>\n</div>"
     },
     "execution_count": 57,
     "metadata": {},
     "output_type": "execute_result"
    }
   ],
   "source": [
    "df.groupby(\"tag-local-identifier\").count()"
   ],
   "metadata": {
    "collapsed": false,
    "ExecuteTime": {
     "end_time": "2024-01-12T21:06:58.785942300Z",
     "start_time": "2024-01-12T21:06:58.688930400Z"
    }
   },
   "id": "a7cf37e144739609"
  },
  {
   "cell_type": "code",
   "execution_count": 58,
   "outputs": [],
   "source": [
    "def set_migration_id(x):\n",
    "    # pl -> afr\n",
    "    s1_start = pd.Timestamp(\"2013-07-01\")\n",
    "    s1_end = pd.Timestamp(\"2013-12-01\")\n",
    "    \n",
    "    # afr -> pl\n",
    "    s2_start = pd.Timestamp(\"2014-02-01\")\n",
    "    s2_end = pd.Timestamp(\"2014-06-30\")\n",
    "    \n",
    "    # pl -> afr\n",
    "    s3_start = pd.Timestamp(\"2014-07-01\")\n",
    "    s3_end = pd.Timestamp(\"2014-12-01\")\n",
    "    \n",
    "    # afr -> pl\n",
    "    s4_start = pd.Timestamp(\"2015-02-01\")\n",
    "    s4_end = pd.Timestamp(\"2015-06-30\")\n",
    "    \n",
    "    # pl -> afr\n",
    "    s5_start = pd.Timestamp(\"2015-07-01\")\n",
    "    s5_end = pd.Timestamp(\"2015-12-01\")\n",
    "    \n",
    "    date = pd.Timestamp(x[\"timestamp\"])\n",
    "    \n",
    "    if s1_start <= date <= s1_end:\n",
    "        return \"pl_afr_1\"\n",
    "    elif s2_start <= date <= s2_end:\n",
    "        return \"afr_pl_2\"\n",
    "    elif s3_start <= date <= s3_end:\n",
    "        return \"pl_afr_3\"\n",
    "    elif s4_start <= date <= s4_end:\n",
    "        return \"afr_pl_4\"\n",
    "    elif s5_start <= date <= s5_end:\n",
    "        return \"pl_afr_5\"\n",
    "    else:\n",
    "        return \"kupa\""
   ],
   "metadata": {
    "collapsed": false,
    "ExecuteTime": {
     "end_time": "2024-01-12T21:06:58.807976800Z",
     "start_time": "2024-01-12T21:06:58.788944Z"
    }
   },
   "id": "49d7817d4bd4fc5b"
  },
  {
   "cell_type": "code",
   "execution_count": 60,
   "outputs": [],
   "source": [
    "def get_processed_df_by_id(idx: int, df_all: pd.DataFrame):\n",
    "    if idx != -1:  # -1 means all\n",
    "        df_all = df_all.loc[df_all[\"tag-local-identifier\"] == idx]\n",
    "\n",
    "    # add migration id\n",
    "    df_all[\"migration_id\"] = df_all.apply(lambda row: set_migration_id(row), axis=1)\n",
    "    df_all = df_all.loc[~df_all[\"migration_id\"].str.contains(\"kupa\")]\n",
    "    \n",
    "    df_all[\"stork_migration_id\"] = df_all[\"tag-local-identifier\"].astype(str) + \"_\" + df_all[\"migration_id\"].astype(str)\n",
    "    \n",
    "    # remove points that are 100m or less close to prev point\n",
    "    \n",
    "    # select data for every 30mins\n",
    "    # https://stackoverflow.com/questions/66908177/how-can-i-get-the-values-at-every-nth-hour-from-a-pandas-dataframe\n",
    "    \n",
    "    # get few columns only\n",
    "    df_all = df_all[[\"stork_migration_id\", \"migration_id\", \"timestamp\", \"date\", \"location-long\", \"location-lat\"]]\n",
    "    \n",
    "    return df_all"
   ],
   "metadata": {
    "collapsed": false,
    "ExecuteTime": {
     "end_time": "2024-01-12T21:07:54.172520800Z",
     "start_time": "2024-01-12T21:07:54.162521400Z"
    }
   },
   "id": "cfb71251189e7a7d"
  },
  {
   "cell_type": "code",
   "execution_count": 61,
   "outputs": [
    {
     "name": "stderr",
     "output_type": "stream",
     "text": [
      "C:\\Users\\lsaw9\\AppData\\Local\\Temp\\ipykernel_16004\\1593745207.py:9: SettingWithCopyWarning: \n",
      "A value is trying to be set on a copy of a slice from a DataFrame.\n",
      "Try using .loc[row_indexer,col_indexer] = value instead\n",
      "\n",
      "See the caveats in the documentation: https://pandas.pydata.org/pandas-docs/stable/user_guide/indexing.html#returning-a-view-versus-a-copy\n",
      "  df_all[\"stork_migration_id\"] = df_all[\"tag-local-identifier\"].astype(str) + \"_\" + df_all[\"migration_id\"].astype(str)\n"
     ]
    }
   ],
   "source": [
    "df_with_migration_id = get_processed_df_by_id(idx=-1, df_all=df)"
   ],
   "metadata": {
    "collapsed": false,
    "ExecuteTime": {
     "end_time": "2024-01-12T21:08:09.323248400Z",
     "start_time": "2024-01-12T21:07:55.887660100Z"
    }
   },
   "id": "5bcdfd51ac92f6f5"
  },
  {
   "cell_type": "code",
   "execution_count": 63,
   "outputs": [],
   "source": [
    "df_pl_afr_1 = df_with_migration_id.loc[df_with_migration_id[\"migration_id\"].str.contains(\"pl_afr_1\")]\n",
    "df_afr_pl_2 = df_with_migration_id.loc[df_with_migration_id[\"migration_id\"].str.contains(\"afr_pl_2\")]\n",
    "df_pl_afr_3 = df_with_migration_id.loc[df_with_migration_id[\"migration_id\"].str.contains(\"pl_afr_3\")]\n",
    "df_afr_pl_4 = df_with_migration_id.loc[df_with_migration_id[\"migration_id\"].str.contains(\"afr_pl_4\")]\n",
    "df_pl_afr_5 = df_with_migration_id.loc[df_with_migration_id[\"migration_id\"].str.contains(\"pl_afr_5\")]"
   ],
   "metadata": {
    "collapsed": false,
    "ExecuteTime": {
     "end_time": "2024-01-12T21:09:45.654385200Z",
     "start_time": "2024-01-12T21:09:44.981434Z"
    }
   },
   "id": "297aed5a59daa9e6"
  },
  {
   "cell_type": "code",
   "execution_count": 64,
   "outputs": [],
   "source": [
    "df_pl_afr_1.to_csv(\"pl_afr_1.csv\")\n",
    "df_afr_pl_2.to_csv(\"afr_pl_2.csv\")\n",
    "df_pl_afr_3.to_csv(\"pl_afr_3.csv\")\n",
    "df_afr_pl_4.to_csv(\"afr_pl_4.csv\")\n",
    "df_pl_afr_5.to_csv(\"pl_afr_5.csv\")"
   ],
   "metadata": {
    "collapsed": false,
    "ExecuteTime": {
     "end_time": "2024-01-12T21:10:44.882915500Z",
     "start_time": "2024-01-12T21:10:43.169581800Z"
    }
   },
   "id": "4beed4d2ddfacc7e"
  },
  {
   "cell_type": "code",
   "execution_count": 54,
   "outputs": [
    {
     "name": "stderr",
     "output_type": "stream",
     "text": [
      "C:\\Users\\lsaw9\\AppData\\Local\\Temp\\ipykernel_16004\\743909388.py:5: SettingWithCopyWarning: \n",
      "A value is trying to be set on a copy of a slice from a DataFrame.\n",
      "Try using .loc[row_indexer,col_indexer] = value instead\n",
      "\n",
      "See the caveats in the documentation: https://pandas.pydata.org/pandas-docs/stable/user_guide/indexing.html#returning-a-view-versus-a-copy\n",
      "  df_all[\"migration_id\"] = df_all.apply(lambda row: set_migration_id(row), axis=1)\n",
      "C:\\Users\\lsaw9\\AppData\\Local\\Temp\\ipykernel_16004\\743909388.py:5: SettingWithCopyWarning: \n",
      "A value is trying to be set on a copy of a slice from a DataFrame.\n",
      "Try using .loc[row_indexer,col_indexer] = value instead\n",
      "\n",
      "See the caveats in the documentation: https://pandas.pydata.org/pandas-docs/stable/user_guide/indexing.html#returning-a-view-versus-a-copy\n",
      "  df_all[\"migration_id\"] = df_all.apply(lambda row: set_migration_id(row), axis=1)\n",
      "C:\\Users\\lsaw9\\AppData\\Local\\Temp\\ipykernel_16004\\743909388.py:5: SettingWithCopyWarning: \n",
      "A value is trying to be set on a copy of a slice from a DataFrame.\n",
      "Try using .loc[row_indexer,col_indexer] = value instead\n",
      "\n",
      "See the caveats in the documentation: https://pandas.pydata.org/pandas-docs/stable/user_guide/indexing.html#returning-a-view-versus-a-copy\n",
      "  df_all[\"migration_id\"] = df_all.apply(lambda row: set_migration_id(row), axis=1)\n",
      "C:\\Users\\lsaw9\\AppData\\Local\\Temp\\ipykernel_16004\\743909388.py:5: SettingWithCopyWarning: \n",
      "A value is trying to be set on a copy of a slice from a DataFrame.\n",
      "Try using .loc[row_indexer,col_indexer] = value instead\n",
      "\n",
      "See the caveats in the documentation: https://pandas.pydata.org/pandas-docs/stable/user_guide/indexing.html#returning-a-view-versus-a-copy\n",
      "  df_all[\"migration_id\"] = df_all.apply(lambda row: set_migration_id(row), axis=1)\n",
      "C:\\Users\\lsaw9\\AppData\\Local\\Temp\\ipykernel_16004\\743909388.py:5: SettingWithCopyWarning: \n",
      "A value is trying to be set on a copy of a slice from a DataFrame.\n",
      "Try using .loc[row_indexer,col_indexer] = value instead\n",
      "\n",
      "See the caveats in the documentation: https://pandas.pydata.org/pandas-docs/stable/user_guide/indexing.html#returning-a-view-versus-a-copy\n",
      "  df_all[\"migration_id\"] = df_all.apply(lambda row: set_migration_id(row), axis=1)\n"
     ]
    }
   ],
   "source": [
    "df_3075 = get_processed_df_by_id(3075, df)\n",
    "df_3955 = get_processed_df_by_id(3955, df)\n",
    "df_4557 = get_processed_df_by_id(4557, df)\n",
    "df_4558 = get_processed_df_by_id(4558, df)\n",
    "df_4559 = get_processed_df_by_id(4559, df)\n",
    "\n",
    "df_3075.to_csv(\"stork_3075.csv\")\n",
    "df_3955.to_csv(\"stork_3955.csv\")\n",
    "df_4557.to_csv(\"stork_4557.csv\")\n",
    "df_4558.to_csv(\"stork_4558.csv\")\n",
    "df_4559.to_csv(\"stork_4559.csv\")"
   ],
   "metadata": {
    "collapsed": false,
    "ExecuteTime": {
     "end_time": "2024-01-12T20:52:31.997733200Z",
     "start_time": "2024-01-12T20:52:28.671664700Z"
    }
   },
   "id": "1b55cfb2f3057376"
  },
  {
   "cell_type": "code",
   "execution_count": null,
   "outputs": [],
   "source": [],
   "metadata": {
    "collapsed": false
   },
   "id": "a672ff0d5faf6e2e"
  }
 ],
 "metadata": {
  "kernelspec": {
   "display_name": "Python 3",
   "language": "python",
   "name": "python3"
  },
  "language_info": {
   "codemirror_mode": {
    "name": "ipython",
    "version": 2
   },
   "file_extension": ".py",
   "mimetype": "text/x-python",
   "name": "python",
   "nbconvert_exporter": "python",
   "pygments_lexer": "ipython2",
   "version": "2.7.6"
  }
 },
 "nbformat": 4,
 "nbformat_minor": 5
}
