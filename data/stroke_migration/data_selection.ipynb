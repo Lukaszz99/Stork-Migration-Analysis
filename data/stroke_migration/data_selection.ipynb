{
 "cells": [
  {
   "cell_type": "code",
   "execution_count": 7,
   "metadata": {
    "collapsed": true
   },
   "outputs": [],
   "source": [
    "import pandas as pd\n",
    "from datetime import datetime"
   ]
  },
  {
   "cell_type": "code",
   "execution_count": 106,
   "outputs": [],
   "source": [
    "FILENAME = 'pl_afr_3'"
   ],
   "metadata": {
    "collapsed": false
   }
  },
  {
   "cell_type": "code",
   "execution_count": 107,
   "outputs": [],
   "source": [
    "data = pd.read_csv(FILENAME + '.csv')"
   ],
   "metadata": {
    "collapsed": false
   }
  },
  {
   "cell_type": "code",
   "execution_count": 159,
   "outputs": [],
   "source": [
    "FORMAT = '%Y-%m-%d %H:%M:%S.%f'"
   ],
   "metadata": {
    "collapsed": false
   }
  },
  {
   "cell_type": "code",
   "execution_count": 108,
   "outputs": [],
   "source": [
    "data['date'] = data['date'].apply(lambda date: datetime.strptime(date, FORMAT))\n",
    "data = data.sort_values('date')\n",
    "data = data.drop(['Unnamed: 0'], axis=1)\n",
    "data = data.reset_index(drop=True)\n",
    "data['previous_date'] = data['date'].shift()"
   ],
   "metadata": {
    "collapsed": false
   }
  },
  {
   "cell_type": "code",
   "execution_count": 109,
   "outputs": [
    {
     "name": "stdout",
     "output_type": "stream",
     "text": [
      "<class 'pandas.core.frame.DataFrame'>\n",
      "RangeIndex: 334882 entries, 0 to 334881\n",
      "Data columns (total 7 columns):\n",
      " #   Column              Non-Null Count   Dtype         \n",
      "---  ------              --------------   -----         \n",
      " 0   stork_migration_id  334882 non-null  object        \n",
      " 1   migration_id        334882 non-null  object        \n",
      " 2   timestamp           334882 non-null  object        \n",
      " 3   date                334882 non-null  datetime64[ns]\n",
      " 4   location-long       334882 non-null  float64       \n",
      " 5   location-lat        334882 non-null  float64       \n",
      " 6   previous_date       334881 non-null  datetime64[ns]\n",
      "dtypes: datetime64[ns](2), float64(2), object(3)\n",
      "memory usage: 17.9+ MB\n"
     ]
    }
   ],
   "source": [
    "data.info()"
   ],
   "metadata": {
    "collapsed": false
   }
  },
  {
   "cell_type": "code",
   "execution_count": 110,
   "outputs": [],
   "source": [
    "def is_time_diff_below_threshold(date1, date2, threshold=30):\n",
    "    return abs((date1 - date2).total_seconds()) / 60 < threshold"
   ],
   "metadata": {
    "collapsed": false
   }
  },
  {
   "cell_type": "code",
   "execution_count": 111,
   "outputs": [],
   "source": [
    "def clean_up(input_data: pd.DataFrame):\n",
    "    output_data = input_data\n",
    "    for i in range(1, len(output_data.index)-1):\n",
    "        if is_time_diff_below_threshold(output_data.at[i, 'previous_date'], output_data.at[i, 'date']):\n",
    "            new_previous_date = output_data.at[i, 'previous_date']\n",
    "            output_data.at[i+1, 'previous_date'] = new_previous_date\n",
    "            output_data = output_data.drop([i], axis=0)\n",
    "    return output_data"
   ],
   "metadata": {
    "collapsed": false
   }
  },
  {
   "cell_type": "code",
   "execution_count": 112,
   "outputs": [
    {
     "ename": "KeyboardInterrupt",
     "evalue": "",
     "output_type": "error",
     "traceback": [
      "\u001B[1;31m---------------------------------------------------------------------------\u001B[0m",
      "\u001B[1;31mKeyboardInterrupt\u001B[0m                         Traceback (most recent call last)",
      "\u001B[1;32m<ipython-input-112-fb015285f40a>\u001B[0m in \u001B[0;36m<module>\u001B[1;34m\u001B[0m\n\u001B[1;32m----> 1\u001B[1;33m \u001B[0mcleaned_data\u001B[0m \u001B[1;33m=\u001B[0m \u001B[0mclean_up\u001B[0m\u001B[1;33m(\u001B[0m\u001B[0mdata\u001B[0m\u001B[1;33m)\u001B[0m\u001B[1;33m\u001B[0m\u001B[1;33m\u001B[0m\u001B[0m\n\u001B[0m",
      "\u001B[1;32m<ipython-input-111-4aca5207511d>\u001B[0m in \u001B[0;36mclean_up\u001B[1;34m(input_data)\u001B[0m\n\u001B[0;32m      2\u001B[0m     \u001B[0moutput_data\u001B[0m \u001B[1;33m=\u001B[0m \u001B[0minput_data\u001B[0m\u001B[1;33m\u001B[0m\u001B[1;33m\u001B[0m\u001B[0m\n\u001B[0;32m      3\u001B[0m     \u001B[1;32mfor\u001B[0m \u001B[0mi\u001B[0m \u001B[1;32min\u001B[0m \u001B[0mrange\u001B[0m\u001B[1;33m(\u001B[0m\u001B[1;36m1\u001B[0m\u001B[1;33m,\u001B[0m \u001B[0mlen\u001B[0m\u001B[1;33m(\u001B[0m\u001B[0moutput_data\u001B[0m\u001B[1;33m.\u001B[0m\u001B[0mindex\u001B[0m\u001B[1;33m)\u001B[0m\u001B[1;33m-\u001B[0m\u001B[1;36m1\u001B[0m\u001B[1;33m)\u001B[0m\u001B[1;33m:\u001B[0m\u001B[1;33m\u001B[0m\u001B[1;33m\u001B[0m\u001B[0m\n\u001B[1;32m----> 4\u001B[1;33m         \u001B[1;32mif\u001B[0m \u001B[0mis_time_diff_below_threshold\u001B[0m\u001B[1;33m(\u001B[0m\u001B[0moutput_data\u001B[0m\u001B[1;33m.\u001B[0m\u001B[0mat\u001B[0m\u001B[1;33m[\u001B[0m\u001B[0mi\u001B[0m\u001B[1;33m,\u001B[0m \u001B[1;34m'previous_date'\u001B[0m\u001B[1;33m]\u001B[0m\u001B[1;33m,\u001B[0m \u001B[0moutput_data\u001B[0m\u001B[1;33m.\u001B[0m\u001B[0mat\u001B[0m\u001B[1;33m[\u001B[0m\u001B[0mi\u001B[0m\u001B[1;33m,\u001B[0m \u001B[1;34m'date'\u001B[0m\u001B[1;33m]\u001B[0m\u001B[1;33m)\u001B[0m\u001B[1;33m:\u001B[0m\u001B[1;33m\u001B[0m\u001B[1;33m\u001B[0m\u001B[0m\n\u001B[0m\u001B[0;32m      5\u001B[0m             \u001B[0mnew_previous_date\u001B[0m \u001B[1;33m=\u001B[0m \u001B[0moutput_data\u001B[0m\u001B[1;33m.\u001B[0m\u001B[0mat\u001B[0m\u001B[1;33m[\u001B[0m\u001B[0mi\u001B[0m\u001B[1;33m,\u001B[0m \u001B[1;34m'previous_date'\u001B[0m\u001B[1;33m]\u001B[0m\u001B[1;33m\u001B[0m\u001B[1;33m\u001B[0m\u001B[0m\n\u001B[0;32m      6\u001B[0m             \u001B[0moutput_data\u001B[0m\u001B[1;33m.\u001B[0m\u001B[0mat\u001B[0m\u001B[1;33m[\u001B[0m\u001B[0mi\u001B[0m\u001B[1;33m+\u001B[0m\u001B[1;36m1\u001B[0m\u001B[1;33m,\u001B[0m \u001B[1;34m'previous_date'\u001B[0m\u001B[1;33m]\u001B[0m \u001B[1;33m=\u001B[0m \u001B[0mnew_previous_date\u001B[0m\u001B[1;33m\u001B[0m\u001B[1;33m\u001B[0m\u001B[0m\n",
      "\u001B[1;32mc:\\python39\\lib\\site-packages\\pandas\\core\\indexing.py\u001B[0m in \u001B[0;36m__getitem__\u001B[1;34m(self, key)\u001B[0m\n\u001B[0;32m   2148\u001B[0m     \u001B[1;32mdef\u001B[0m \u001B[0m__getitem__\u001B[0m\u001B[1;33m(\u001B[0m\u001B[0mself\u001B[0m\u001B[1;33m,\u001B[0m \u001B[0mkey\u001B[0m\u001B[1;33m)\u001B[0m\u001B[1;33m:\u001B[0m\u001B[1;33m\u001B[0m\u001B[1;33m\u001B[0m\u001B[0m\n\u001B[0;32m   2149\u001B[0m \u001B[1;33m\u001B[0m\u001B[0m\n\u001B[1;32m-> 2150\u001B[1;33m         \u001B[1;32mif\u001B[0m \u001B[0mself\u001B[0m\u001B[1;33m.\u001B[0m\u001B[0mndim\u001B[0m \u001B[1;33m==\u001B[0m \u001B[1;36m2\u001B[0m \u001B[1;32mand\u001B[0m \u001B[1;32mnot\u001B[0m \u001B[0mself\u001B[0m\u001B[1;33m.\u001B[0m\u001B[0m_axes_are_unique\u001B[0m\u001B[1;33m:\u001B[0m\u001B[1;33m\u001B[0m\u001B[1;33m\u001B[0m\u001B[0m\n\u001B[0m\u001B[0;32m   2151\u001B[0m             \u001B[1;31m# GH#33041 fall back to .loc\u001B[0m\u001B[1;33m\u001B[0m\u001B[1;33m\u001B[0m\u001B[1;33m\u001B[0m\u001B[0m\n\u001B[0;32m   2152\u001B[0m             \u001B[1;32mif\u001B[0m \u001B[1;32mnot\u001B[0m \u001B[0misinstance\u001B[0m\u001B[1;33m(\u001B[0m\u001B[0mkey\u001B[0m\u001B[1;33m,\u001B[0m \u001B[0mtuple\u001B[0m\u001B[1;33m)\u001B[0m \u001B[1;32mor\u001B[0m \u001B[1;32mnot\u001B[0m \u001B[0mall\u001B[0m\u001B[1;33m(\u001B[0m\u001B[0mis_scalar\u001B[0m\u001B[1;33m(\u001B[0m\u001B[0mx\u001B[0m\u001B[1;33m)\u001B[0m \u001B[1;32mfor\u001B[0m \u001B[0mx\u001B[0m \u001B[1;32min\u001B[0m \u001B[0mkey\u001B[0m\u001B[1;33m)\u001B[0m\u001B[1;33m:\u001B[0m\u001B[1;33m\u001B[0m\u001B[1;33m\u001B[0m\u001B[0m\n",
      "\u001B[1;32mc:\\python39\\lib\\site-packages\\pandas\\core\\indexing.py\u001B[0m in \u001B[0;36m_axes_are_unique\u001B[1;34m(self)\u001B[0m\n\u001B[0;32m   2144\u001B[0m         \u001B[1;31m# Only relevant for self.ndim == 2\u001B[0m\u001B[1;33m\u001B[0m\u001B[1;33m\u001B[0m\u001B[1;33m\u001B[0m\u001B[0m\n\u001B[0;32m   2145\u001B[0m         \u001B[1;32massert\u001B[0m \u001B[0mself\u001B[0m\u001B[1;33m.\u001B[0m\u001B[0mndim\u001B[0m \u001B[1;33m==\u001B[0m \u001B[1;36m2\u001B[0m\u001B[1;33m\u001B[0m\u001B[1;33m\u001B[0m\u001B[0m\n\u001B[1;32m-> 2146\u001B[1;33m         \u001B[1;32mreturn\u001B[0m \u001B[0mself\u001B[0m\u001B[1;33m.\u001B[0m\u001B[0mobj\u001B[0m\u001B[1;33m.\u001B[0m\u001B[0mindex\u001B[0m\u001B[1;33m.\u001B[0m\u001B[0mis_unique\u001B[0m \u001B[1;32mand\u001B[0m \u001B[0mself\u001B[0m\u001B[1;33m.\u001B[0m\u001B[0mobj\u001B[0m\u001B[1;33m.\u001B[0m\u001B[0mcolumns\u001B[0m\u001B[1;33m.\u001B[0m\u001B[0mis_unique\u001B[0m\u001B[1;33m\u001B[0m\u001B[1;33m\u001B[0m\u001B[0m\n\u001B[0m\u001B[0;32m   2147\u001B[0m \u001B[1;33m\u001B[0m\u001B[0m\n\u001B[0;32m   2148\u001B[0m     \u001B[1;32mdef\u001B[0m \u001B[0m__getitem__\u001B[0m\u001B[1;33m(\u001B[0m\u001B[0mself\u001B[0m\u001B[1;33m,\u001B[0m \u001B[0mkey\u001B[0m\u001B[1;33m)\u001B[0m\u001B[1;33m:\u001B[0m\u001B[1;33m\u001B[0m\u001B[1;33m\u001B[0m\u001B[0m\n",
      "\u001B[1;32mpandas\\_libs\\properties.pyx\u001B[0m in \u001B[0;36mpandas._libs.properties.CachedProperty.__get__\u001B[1;34m()\u001B[0m\n",
      "\u001B[1;32mc:\\python39\\lib\\site-packages\\pandas\\core\\indexes\\base.py\u001B[0m in \u001B[0;36mis_unique\u001B[1;34m(self)\u001B[0m\n\u001B[0;32m   1767\u001B[0m         \u001B[0mReturn\u001B[0m \u001B[1;32mif\u001B[0m \u001B[0mthe\u001B[0m \u001B[0mindex\u001B[0m \u001B[0mhas\u001B[0m \u001B[0munique\u001B[0m \u001B[0mvalues\u001B[0m\u001B[1;33m.\u001B[0m\u001B[1;33m\u001B[0m\u001B[1;33m\u001B[0m\u001B[0m\n\u001B[0;32m   1768\u001B[0m         \"\"\"\n\u001B[1;32m-> 1769\u001B[1;33m         \u001B[1;32mreturn\u001B[0m \u001B[0mself\u001B[0m\u001B[1;33m.\u001B[0m\u001B[0m_engine\u001B[0m\u001B[1;33m.\u001B[0m\u001B[0mis_unique\u001B[0m\u001B[1;33m\u001B[0m\u001B[1;33m\u001B[0m\u001B[0m\n\u001B[0m\u001B[0;32m   1770\u001B[0m \u001B[1;33m\u001B[0m\u001B[0m\n\u001B[0;32m   1771\u001B[0m     \u001B[1;33m@\u001B[0m\u001B[0mproperty\u001B[0m\u001B[1;33m\u001B[0m\u001B[1;33m\u001B[0m\u001B[0m\n",
      "\u001B[1;31mKeyboardInterrupt\u001B[0m: "
     ]
    }
   ],
   "source": [
    "cleaned_data = clean_up(data)"
   ],
   "metadata": {
    "collapsed": false
   }
  },
  {
   "cell_type": "code",
   "execution_count": 94,
   "outputs": [
    {
     "data": {
      "text/plain": "     stork_migration_id migration_id                timestamp  \\\n0         3075_pl_afr_1     pl_afr_1  2013-07-16 05:46:27.000   \n1         3056_pl_afr_1     pl_afr_1  2013-07-16 06:55:47.000   \n2         3056_pl_afr_1     pl_afr_1  2013-07-16 07:40:06.000   \n3         3056_pl_afr_1     pl_afr_1  2013-07-16 09:00:06.000   \n4         3075_pl_afr_1     pl_afr_1  2013-07-16 10:30:11.000   \n...                 ...          ...                      ...   \n4921      3048_pl_afr_1     pl_afr_1  2013-11-30 18:25:06.000   \n4922      3048_pl_afr_1     pl_afr_1  2013-11-30 18:55:07.000   \n4923      3048_pl_afr_1     pl_afr_1  2013-11-30 19:25:08.000   \n4924      3048_pl_afr_1     pl_afr_1  2013-11-30 19:55:08.000   \n4925      3048_pl_afr_1     pl_afr_1  2013-11-30 20:00:23.000   \n\n                    date  location-long  location-lat  \n0    2013-07-16 05:46:27      15.187746     51.750439  \n1    2013-07-16 06:55:47      15.056473     51.763528  \n2    2013-07-16 07:40:06      15.056396     51.763489  \n3    2013-07-16 09:00:06      15.056633     51.763468  \n4    2013-07-16 10:30:11      15.187850     51.750318  \n...                  ...            ...           ...  \n4921 2013-11-30 18:25:06      37.737717     10.135811  \n4922 2013-11-30 18:55:07      37.737752     10.135804  \n4923 2013-11-30 19:25:08      37.737706     10.135012  \n4924 2013-11-30 19:55:08      37.737843     10.134776  \n4925 2013-11-30 20:00:23      37.739384     10.134174  \n\n[4926 rows x 6 columns]",
      "text/html": "<div>\n<style scoped>\n    .dataframe tbody tr th:only-of-type {\n        vertical-align: middle;\n    }\n\n    .dataframe tbody tr th {\n        vertical-align: top;\n    }\n\n    .dataframe thead th {\n        text-align: right;\n    }\n</style>\n<table border=\"1\" class=\"dataframe\">\n  <thead>\n    <tr style=\"text-align: right;\">\n      <th></th>\n      <th>stork_migration_id</th>\n      <th>migration_id</th>\n      <th>timestamp</th>\n      <th>date</th>\n      <th>location-long</th>\n      <th>location-lat</th>\n    </tr>\n  </thead>\n  <tbody>\n    <tr>\n      <th>0</th>\n      <td>3075_pl_afr_1</td>\n      <td>pl_afr_1</td>\n      <td>2013-07-16 05:46:27.000</td>\n      <td>2013-07-16 05:46:27</td>\n      <td>15.187746</td>\n      <td>51.750439</td>\n    </tr>\n    <tr>\n      <th>1</th>\n      <td>3056_pl_afr_1</td>\n      <td>pl_afr_1</td>\n      <td>2013-07-16 06:55:47.000</td>\n      <td>2013-07-16 06:55:47</td>\n      <td>15.056473</td>\n      <td>51.763528</td>\n    </tr>\n    <tr>\n      <th>2</th>\n      <td>3056_pl_afr_1</td>\n      <td>pl_afr_1</td>\n      <td>2013-07-16 07:40:06.000</td>\n      <td>2013-07-16 07:40:06</td>\n      <td>15.056396</td>\n      <td>51.763489</td>\n    </tr>\n    <tr>\n      <th>3</th>\n      <td>3056_pl_afr_1</td>\n      <td>pl_afr_1</td>\n      <td>2013-07-16 09:00:06.000</td>\n      <td>2013-07-16 09:00:06</td>\n      <td>15.056633</td>\n      <td>51.763468</td>\n    </tr>\n    <tr>\n      <th>4</th>\n      <td>3075_pl_afr_1</td>\n      <td>pl_afr_1</td>\n      <td>2013-07-16 10:30:11.000</td>\n      <td>2013-07-16 10:30:11</td>\n      <td>15.187850</td>\n      <td>51.750318</td>\n    </tr>\n    <tr>\n      <th>...</th>\n      <td>...</td>\n      <td>...</td>\n      <td>...</td>\n      <td>...</td>\n      <td>...</td>\n      <td>...</td>\n    </tr>\n    <tr>\n      <th>4921</th>\n      <td>3048_pl_afr_1</td>\n      <td>pl_afr_1</td>\n      <td>2013-11-30 18:25:06.000</td>\n      <td>2013-11-30 18:25:06</td>\n      <td>37.737717</td>\n      <td>10.135811</td>\n    </tr>\n    <tr>\n      <th>4922</th>\n      <td>3048_pl_afr_1</td>\n      <td>pl_afr_1</td>\n      <td>2013-11-30 18:55:07.000</td>\n      <td>2013-11-30 18:55:07</td>\n      <td>37.737752</td>\n      <td>10.135804</td>\n    </tr>\n    <tr>\n      <th>4923</th>\n      <td>3048_pl_afr_1</td>\n      <td>pl_afr_1</td>\n      <td>2013-11-30 19:25:08.000</td>\n      <td>2013-11-30 19:25:08</td>\n      <td>37.737706</td>\n      <td>10.135012</td>\n    </tr>\n    <tr>\n      <th>4924</th>\n      <td>3048_pl_afr_1</td>\n      <td>pl_afr_1</td>\n      <td>2013-11-30 19:55:08.000</td>\n      <td>2013-11-30 19:55:08</td>\n      <td>37.737843</td>\n      <td>10.134776</td>\n    </tr>\n    <tr>\n      <th>4925</th>\n      <td>3048_pl_afr_1</td>\n      <td>pl_afr_1</td>\n      <td>2013-11-30 20:00:23.000</td>\n      <td>2013-11-30 20:00:23</td>\n      <td>37.739384</td>\n      <td>10.134174</td>\n    </tr>\n  </tbody>\n</table>\n<p>4926 rows × 6 columns</p>\n</div>"
     },
     "execution_count": 94,
     "metadata": {},
     "output_type": "execute_result"
    }
   ],
   "source": [
    "cleaned_data"
   ],
   "metadata": {
    "collapsed": false
   }
  },
  {
   "cell_type": "code",
   "execution_count": null,
   "outputs": [],
   "source": [
    "cleaned_data = cleaned_data.drop(['previous_date'], axis=1)\n",
    "cleaned_data = cleaned_data.reset_index(drop=True)\n",
    "cleaned_data.to_csv(FILENAME + '_cleaned.csv')"
   ],
   "metadata": {
    "collapsed": false
   }
  },
  {
   "cell_type": "code",
   "execution_count": 96,
   "outputs": [],
   "source": [
    "cleaned_data.to_csv(FILENAME + '_cleaned.csv')"
   ],
   "metadata": {
    "collapsed": false
   }
  },
  {
   "cell_type": "code",
   "execution_count": null,
   "outputs": [],
   "source": [],
   "metadata": {
    "collapsed": false
   }
  },
  {
   "cell_type": "code",
   "execution_count": null,
   "outputs": [],
   "source": [],
   "metadata": {
    "collapsed": false
   }
  },
  {
   "cell_type": "code",
   "execution_count": 199,
   "outputs": [],
   "source": [
    "data2 = pd.read_csv('pl_afr_5_cleaned.csv')"
   ],
   "metadata": {
    "collapsed": false
   }
  },
  {
   "cell_type": "code",
   "execution_count": 200,
   "outputs": [],
   "source": [
    "FORMAT = '%Y-%m-%d %H:%M:%S.%f'\n",
    "data2['date'] = data2['date'].apply(lambda date: datetime.strptime(date, FORMAT))\n",
    "data2 = data2.sort_values('date')\n",
    "data2 = data2.drop(['Unnamed: 0'], axis=1)\n",
    "data2 = data2.reset_index(drop=True)"
   ],
   "metadata": {
    "collapsed": false
   }
  },
  {
   "cell_type": "code",
   "execution_count": 202,
   "outputs": [
    {
     "name": "stdout",
     "output_type": "stream",
     "text": [
      "<class 'pandas.core.frame.DataFrame'>\n",
      "RangeIndex: 2945 entries, 0 to 2944\n",
      "Data columns (total 6 columns):\n",
      " #   Column              Non-Null Count  Dtype         \n",
      "---  ------              --------------  -----         \n",
      " 0   stork_migration_id  2945 non-null   object        \n",
      " 1   migration_id        2945 non-null   object        \n",
      " 2   timestamp           2945 non-null   object        \n",
      " 3   date                2945 non-null   datetime64[ns]\n",
      " 4   location-long       2945 non-null   float64       \n",
      " 5   location-lat        2945 non-null   float64       \n",
      "dtypes: datetime64[ns](1), float64(2), object(3)\n",
      "memory usage: 138.2+ KB\n"
     ]
    }
   ],
   "source": [
    "data2.info()"
   ],
   "metadata": {
    "collapsed": false
   }
  },
  {
   "cell_type": "code",
   "execution_count": 203,
   "outputs": [],
   "source": [
    "FORMAT = '%d.%m.%Y %H:%M:%S'"
   ],
   "metadata": {
    "collapsed": false
   }
  },
  {
   "cell_type": "code",
   "execution_count": null,
   "outputs": [],
   "source": [
    "2014-04-24 08:30:06.000\n",
    "3048_afr_pl_2\n",
    "2014-04-07 12:20:06.000"
   ],
   "metadata": {
    "collapsed": false
   }
  },
  {
   "cell_type": "code",
   "execution_count": 204,
   "outputs": [],
   "source": [
    "to_del = data2.loc[(data2['stork_migration_id'] == '3955_pl_afr_5') & (data2['date'] > datetime.strptime('18.08.2015 12:35:06', FORMAT))]"
   ],
   "metadata": {
    "collapsed": false
   }
  },
  {
   "cell_type": "code",
   "execution_count": 209,
   "outputs": [],
   "source": [
    "to_del = data2.loc[data2['stork_migration_id'].isin(['3951_pl_afr_5', '4552_pl_afr_5', '4553_pl_afr_5', '4554_pl_afr_5', '4555_pl_afr_5', '4559_pl_afr_5', '4570_pl_afr_5', '4571_pl_afr_5'])]"
   ],
   "metadata": {
    "collapsed": false
   }
  },
  {
   "cell_type": "code",
   "execution_count": 210,
   "outputs": [
    {
     "data": {
      "text/plain": "     stork_migration_id migration_id                timestamp  \\\n0         3951_pl_afr_5     pl_afr_5  2015-07-01 02:00:23.000   \n1         3951_pl_afr_5     pl_afr_5  2015-07-01 02:35:06.000   \n2         3951_pl_afr_5     pl_afr_5  2015-07-01 03:05:06.000   \n3         3951_pl_afr_5     pl_afr_5  2015-07-01 03:35:06.000   \n4         3951_pl_afr_5     pl_afr_5  2015-07-01 04:05:06.000   \n...                 ...          ...                      ...   \n2938      4559_pl_afr_5     pl_afr_5  2015-09-20 17:55:06.000   \n2939      4559_pl_afr_5     pl_afr_5  2015-09-20 18:25:06.000   \n2940      4559_pl_afr_5     pl_afr_5  2015-09-20 18:55:06.000   \n2941      4559_pl_afr_5     pl_afr_5  2015-09-20 19:25:07.000   \n2942      4559_pl_afr_5     pl_afr_5  2015-09-20 20:00:06.000   \n\n                    date  location-long  location-lat  \n0    2015-07-01 02:00:23      31.554432     39.144100  \n1    2015-07-01 02:35:06      31.570463     39.138460  \n2    2015-07-01 03:05:06      31.570417     39.137479  \n3    2015-07-01 03:35:06      31.569924     39.140242  \n4    2015-07-01 04:05:06      31.562286     39.145345  \n...                  ...            ...           ...  \n2938 2015-09-20 17:55:06      22.475422     53.167995  \n2939 2015-09-20 18:25:06      22.475419     53.167992  \n2940 2015-09-20 18:55:06      22.475438     53.167961  \n2941 2015-09-20 19:25:07      22.475396     53.167957  \n2942 2015-09-20 20:00:06      22.475408     53.167932  \n\n[1838 rows x 6 columns]",
      "text/html": "<div>\n<style scoped>\n    .dataframe tbody tr th:only-of-type {\n        vertical-align: middle;\n    }\n\n    .dataframe tbody tr th {\n        vertical-align: top;\n    }\n\n    .dataframe thead th {\n        text-align: right;\n    }\n</style>\n<table border=\"1\" class=\"dataframe\">\n  <thead>\n    <tr style=\"text-align: right;\">\n      <th></th>\n      <th>stork_migration_id</th>\n      <th>migration_id</th>\n      <th>timestamp</th>\n      <th>date</th>\n      <th>location-long</th>\n      <th>location-lat</th>\n    </tr>\n  </thead>\n  <tbody>\n    <tr>\n      <th>0</th>\n      <td>3951_pl_afr_5</td>\n      <td>pl_afr_5</td>\n      <td>2015-07-01 02:00:23.000</td>\n      <td>2015-07-01 02:00:23</td>\n      <td>31.554432</td>\n      <td>39.144100</td>\n    </tr>\n    <tr>\n      <th>1</th>\n      <td>3951_pl_afr_5</td>\n      <td>pl_afr_5</td>\n      <td>2015-07-01 02:35:06.000</td>\n      <td>2015-07-01 02:35:06</td>\n      <td>31.570463</td>\n      <td>39.138460</td>\n    </tr>\n    <tr>\n      <th>2</th>\n      <td>3951_pl_afr_5</td>\n      <td>pl_afr_5</td>\n      <td>2015-07-01 03:05:06.000</td>\n      <td>2015-07-01 03:05:06</td>\n      <td>31.570417</td>\n      <td>39.137479</td>\n    </tr>\n    <tr>\n      <th>3</th>\n      <td>3951_pl_afr_5</td>\n      <td>pl_afr_5</td>\n      <td>2015-07-01 03:35:06.000</td>\n      <td>2015-07-01 03:35:06</td>\n      <td>31.569924</td>\n      <td>39.140242</td>\n    </tr>\n    <tr>\n      <th>4</th>\n      <td>3951_pl_afr_5</td>\n      <td>pl_afr_5</td>\n      <td>2015-07-01 04:05:06.000</td>\n      <td>2015-07-01 04:05:06</td>\n      <td>31.562286</td>\n      <td>39.145345</td>\n    </tr>\n    <tr>\n      <th>...</th>\n      <td>...</td>\n      <td>...</td>\n      <td>...</td>\n      <td>...</td>\n      <td>...</td>\n      <td>...</td>\n    </tr>\n    <tr>\n      <th>2938</th>\n      <td>4559_pl_afr_5</td>\n      <td>pl_afr_5</td>\n      <td>2015-09-20 17:55:06.000</td>\n      <td>2015-09-20 17:55:06</td>\n      <td>22.475422</td>\n      <td>53.167995</td>\n    </tr>\n    <tr>\n      <th>2939</th>\n      <td>4559_pl_afr_5</td>\n      <td>pl_afr_5</td>\n      <td>2015-09-20 18:25:06.000</td>\n      <td>2015-09-20 18:25:06</td>\n      <td>22.475419</td>\n      <td>53.167992</td>\n    </tr>\n    <tr>\n      <th>2940</th>\n      <td>4559_pl_afr_5</td>\n      <td>pl_afr_5</td>\n      <td>2015-09-20 18:55:06.000</td>\n      <td>2015-09-20 18:55:06</td>\n      <td>22.475438</td>\n      <td>53.167961</td>\n    </tr>\n    <tr>\n      <th>2941</th>\n      <td>4559_pl_afr_5</td>\n      <td>pl_afr_5</td>\n      <td>2015-09-20 19:25:07.000</td>\n      <td>2015-09-20 19:25:07</td>\n      <td>22.475396</td>\n      <td>53.167957</td>\n    </tr>\n    <tr>\n      <th>2942</th>\n      <td>4559_pl_afr_5</td>\n      <td>pl_afr_5</td>\n      <td>2015-09-20 20:00:06.000</td>\n      <td>2015-09-20 20:00:06</td>\n      <td>22.475408</td>\n      <td>53.167932</td>\n    </tr>\n  </tbody>\n</table>\n<p>1838 rows × 6 columns</p>\n</div>"
     },
     "execution_count": 210,
     "metadata": {},
     "output_type": "execute_result"
    }
   ],
   "source": [
    "to_del"
   ],
   "metadata": {
    "collapsed": false
   }
  },
  {
   "cell_type": "code",
   "execution_count": 211,
   "outputs": [],
   "source": [
    "data2 = pd.merge(data2, to_del, indicator=True, how='outer').query('_merge==\"left_only\"').drop('_merge', axis=1)"
   ],
   "metadata": {
    "collapsed": false
   }
  },
  {
   "cell_type": "code",
   "execution_count": 212,
   "outputs": [
    {
     "data": {
      "text/plain": "     stork_migration_id migration_id                timestamp  \\\n56        4557_pl_afr_5     pl_afr_5  2015-07-02 12:35:06.000   \n64        4556_pl_afr_5     pl_afr_5  2015-07-02 16:35:06.000   \n65        4556_pl_afr_5     pl_afr_5  2015-07-02 17:05:06.000   \n66        4556_pl_afr_5     pl_afr_5  2015-07-02 17:35:06.000   \n74        4557_pl_afr_5     pl_afr_5  2015-07-03 03:35:06.000   \n...                 ...          ...                      ...   \n2735      4558_pl_afr_5     pl_afr_5  2015-09-15 11:30:07.000   \n2736      4558_pl_afr_5     pl_afr_5  2015-09-15 12:00:08.000   \n2738      4558_pl_afr_5     pl_afr_5  2015-09-15 13:00:13.000   \n2739      4558_pl_afr_5     pl_afr_5  2015-09-15 13:30:23.000   \n2773      4558_pl_afr_5     pl_afr_5  2015-09-16 13:00:08.000   \n\n                    date  location-long  location-lat  \n56   2015-07-02 12:35:06      22.479859     53.229691  \n64   2015-07-02 16:35:06      22.479865     53.229689  \n65   2015-07-02 17:05:06      22.479876     53.229682  \n66   2015-07-02 17:35:06      22.479833     53.229720  \n74   2015-07-03 03:35:06      22.479858     53.229703  \n...                  ...            ...           ...  \n2735 2015-09-15 11:30:07      35.565722     36.684889  \n2736 2015-09-15 12:00:08      35.565715     36.684888  \n2738 2015-09-15 13:00:13      35.565712     36.684932  \n2739 2015-09-15 13:30:23      35.565685     36.684890  \n2773 2015-09-16 13:00:08      35.565738     36.684843  \n\n[1090 rows x 6 columns]",
      "text/html": "<div>\n<style scoped>\n    .dataframe tbody tr th:only-of-type {\n        vertical-align: middle;\n    }\n\n    .dataframe tbody tr th {\n        vertical-align: top;\n    }\n\n    .dataframe thead th {\n        text-align: right;\n    }\n</style>\n<table border=\"1\" class=\"dataframe\">\n  <thead>\n    <tr style=\"text-align: right;\">\n      <th></th>\n      <th>stork_migration_id</th>\n      <th>migration_id</th>\n      <th>timestamp</th>\n      <th>date</th>\n      <th>location-long</th>\n      <th>location-lat</th>\n    </tr>\n  </thead>\n  <tbody>\n    <tr>\n      <th>56</th>\n      <td>4557_pl_afr_5</td>\n      <td>pl_afr_5</td>\n      <td>2015-07-02 12:35:06.000</td>\n      <td>2015-07-02 12:35:06</td>\n      <td>22.479859</td>\n      <td>53.229691</td>\n    </tr>\n    <tr>\n      <th>64</th>\n      <td>4556_pl_afr_5</td>\n      <td>pl_afr_5</td>\n      <td>2015-07-02 16:35:06.000</td>\n      <td>2015-07-02 16:35:06</td>\n      <td>22.479865</td>\n      <td>53.229689</td>\n    </tr>\n    <tr>\n      <th>65</th>\n      <td>4556_pl_afr_5</td>\n      <td>pl_afr_5</td>\n      <td>2015-07-02 17:05:06.000</td>\n      <td>2015-07-02 17:05:06</td>\n      <td>22.479876</td>\n      <td>53.229682</td>\n    </tr>\n    <tr>\n      <th>66</th>\n      <td>4556_pl_afr_5</td>\n      <td>pl_afr_5</td>\n      <td>2015-07-02 17:35:06.000</td>\n      <td>2015-07-02 17:35:06</td>\n      <td>22.479833</td>\n      <td>53.229720</td>\n    </tr>\n    <tr>\n      <th>74</th>\n      <td>4557_pl_afr_5</td>\n      <td>pl_afr_5</td>\n      <td>2015-07-03 03:35:06.000</td>\n      <td>2015-07-03 03:35:06</td>\n      <td>22.479858</td>\n      <td>53.229703</td>\n    </tr>\n    <tr>\n      <th>...</th>\n      <td>...</td>\n      <td>...</td>\n      <td>...</td>\n      <td>...</td>\n      <td>...</td>\n      <td>...</td>\n    </tr>\n    <tr>\n      <th>2735</th>\n      <td>4558_pl_afr_5</td>\n      <td>pl_afr_5</td>\n      <td>2015-09-15 11:30:07.000</td>\n      <td>2015-09-15 11:30:07</td>\n      <td>35.565722</td>\n      <td>36.684889</td>\n    </tr>\n    <tr>\n      <th>2736</th>\n      <td>4558_pl_afr_5</td>\n      <td>pl_afr_5</td>\n      <td>2015-09-15 12:00:08.000</td>\n      <td>2015-09-15 12:00:08</td>\n      <td>35.565715</td>\n      <td>36.684888</td>\n    </tr>\n    <tr>\n      <th>2738</th>\n      <td>4558_pl_afr_5</td>\n      <td>pl_afr_5</td>\n      <td>2015-09-15 13:00:13.000</td>\n      <td>2015-09-15 13:00:13</td>\n      <td>35.565712</td>\n      <td>36.684932</td>\n    </tr>\n    <tr>\n      <th>2739</th>\n      <td>4558_pl_afr_5</td>\n      <td>pl_afr_5</td>\n      <td>2015-09-15 13:30:23.000</td>\n      <td>2015-09-15 13:30:23</td>\n      <td>35.565685</td>\n      <td>36.684890</td>\n    </tr>\n    <tr>\n      <th>2773</th>\n      <td>4558_pl_afr_5</td>\n      <td>pl_afr_5</td>\n      <td>2015-09-16 13:00:08.000</td>\n      <td>2015-09-16 13:00:08</td>\n      <td>35.565738</td>\n      <td>36.684843</td>\n    </tr>\n  </tbody>\n</table>\n<p>1090 rows × 6 columns</p>\n</div>"
     },
     "execution_count": 212,
     "metadata": {},
     "output_type": "execute_result"
    }
   ],
   "source": [
    "data2"
   ],
   "metadata": {
    "collapsed": false
   }
  },
  {
   "cell_type": "code",
   "execution_count": 213,
   "outputs": [],
   "source": [
    "data2.to_csv('pl_afr_5_cleaned_v2.csv')"
   ],
   "metadata": {
    "collapsed": false
   }
  }
 ],
 "metadata": {
  "kernelspec": {
   "display_name": "Python 3",
   "language": "python",
   "name": "python3"
  },
  "language_info": {
   "codemirror_mode": {
    "name": "ipython",
    "version": 2
   },
   "file_extension": ".py",
   "mimetype": "text/x-python",
   "name": "python",
   "nbconvert_exporter": "python",
   "pygments_lexer": "ipython2",
   "version": "2.7.6"
  }
 },
 "nbformat": 4,
 "nbformat_minor": 0
}
