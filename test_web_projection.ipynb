{
 "cells": [
  {
   "cell_type": "code",
   "execution_count": 1,
   "id": "initial_id",
   "metadata": {
    "collapsed": true,
    "ExecuteTime": {
     "end_time": "2024-01-11T23:09:28.795365700Z",
     "start_time": "2024-01-11T23:09:28.538198900Z"
    }
   },
   "outputs": [],
   "source": [
    "import pandas as pd"
   ]
  },
  {
   "cell_type": "code",
   "execution_count": 2,
   "outputs": [],
   "source": [
    "df = pd.read_csv('data/stroke_migration/LifeTrack_white_stork_clean.csv')"
   ],
   "metadata": {
    "collapsed": false,
    "ExecuteTime": {
     "end_time": "2024-01-11T23:09:29.913881900Z",
     "start_time": "2024-01-11T23:09:28.795365700Z"
    }
   },
   "id": "679b6c426968d4a6"
  },
  {
   "cell_type": "code",
   "execution_count": 15,
   "outputs": [
    {
     "data": {
      "text/plain": "(1000, 3)"
     },
     "execution_count": 15,
     "metadata": {},
     "output_type": "execute_result"
    }
   ],
   "source": [
    "# get random sample of 1000 rows\n",
    "df = df.sample(n=1000, random_state=1)\n",
    "df = df[[\"timestamp\", \"location-long\", \"location-lat\"]]\n",
    "df.shape"
   ],
   "metadata": {
    "collapsed": false,
    "ExecuteTime": {
     "end_time": "2024-01-11T23:12:19.355492700Z",
     "start_time": "2024-01-11T23:12:19.342494500Z"
    }
   },
   "id": "dd614631c598da53"
  },
  {
   "cell_type": "code",
   "execution_count": 16,
   "outputs": [],
   "source": [
    "# add coordinates in web mercator\n",
    "from utils.geo import wgs84_to_web_mercator\n",
    "df = wgs84_to_web_mercator(df, lon='location-long', lat='location-lat')"
   ],
   "metadata": {
    "collapsed": false,
    "ExecuteTime": {
     "end_time": "2024-01-11T23:12:19.701145500Z",
     "start_time": "2024-01-11T23:12:19.681146200Z"
    }
   },
   "id": "9e2defe43f3bc716"
  },
  {
   "cell_type": "code",
   "execution_count": 17,
   "outputs": [
    {
     "data": {
      "text/plain": "                      timestamp  location-long  location-lat             x  \\\n321739  2015-04-22 17:15:06.000      24.952204     21.670569  2.777667e+06   \n81806   2013-08-16 12:05:07.000      15.605860     52.060456  1.737236e+06   \n424580  2015-05-25 18:45:07.000      25.929859     48.921427  2.886499e+06   \n165976  2014-08-20 18:34:04.000      25.722648     49.702630  2.863432e+06   \n127824  2014-03-13 10:15:07.000      25.726304     10.924742  2.863839e+06   \n...                         ...            ...           ...           ...   \n683375  2015-08-12 15:10:07.000      24.686975     50.613579  2.748142e+06   \n64421   2014-05-04 13:15:08.000      34.682479     31.212205  3.860836e+06   \n481244  2014-09-04 16:10:06.000      27.112816     41.145275  3.018185e+06   \n571229  2015-04-12 07:25:06.000      37.671850     34.582185  4.193611e+06   \n542185  2014-11-30 06:30:07.000      44.382888     14.593182  4.940681e+06   \n\n                   y  \n321739  2.472019e+06  \n81806   6.811064e+06  \n424580  6.261540e+06  \n165976  6.394935e+06  \n127824  1.223573e+06  \n...              ...  \n683375  6.553223e+06  \n64421   3.660339e+06  \n481244  5.033793e+06  \n571229  4.107246e+06  \n542185  1.642360e+06  \n\n[1000 rows x 5 columns]",
      "text/html": "<div>\n<style scoped>\n    .dataframe tbody tr th:only-of-type {\n        vertical-align: middle;\n    }\n\n    .dataframe tbody tr th {\n        vertical-align: top;\n    }\n\n    .dataframe thead th {\n        text-align: right;\n    }\n</style>\n<table border=\"1\" class=\"dataframe\">\n  <thead>\n    <tr style=\"text-align: right;\">\n      <th></th>\n      <th>timestamp</th>\n      <th>location-long</th>\n      <th>location-lat</th>\n      <th>x</th>\n      <th>y</th>\n    </tr>\n  </thead>\n  <tbody>\n    <tr>\n      <th>321739</th>\n      <td>2015-04-22 17:15:06.000</td>\n      <td>24.952204</td>\n      <td>21.670569</td>\n      <td>2.777667e+06</td>\n      <td>2.472019e+06</td>\n    </tr>\n    <tr>\n      <th>81806</th>\n      <td>2013-08-16 12:05:07.000</td>\n      <td>15.605860</td>\n      <td>52.060456</td>\n      <td>1.737236e+06</td>\n      <td>6.811064e+06</td>\n    </tr>\n    <tr>\n      <th>424580</th>\n      <td>2015-05-25 18:45:07.000</td>\n      <td>25.929859</td>\n      <td>48.921427</td>\n      <td>2.886499e+06</td>\n      <td>6.261540e+06</td>\n    </tr>\n    <tr>\n      <th>165976</th>\n      <td>2014-08-20 18:34:04.000</td>\n      <td>25.722648</td>\n      <td>49.702630</td>\n      <td>2.863432e+06</td>\n      <td>6.394935e+06</td>\n    </tr>\n    <tr>\n      <th>127824</th>\n      <td>2014-03-13 10:15:07.000</td>\n      <td>25.726304</td>\n      <td>10.924742</td>\n      <td>2.863839e+06</td>\n      <td>1.223573e+06</td>\n    </tr>\n    <tr>\n      <th>...</th>\n      <td>...</td>\n      <td>...</td>\n      <td>...</td>\n      <td>...</td>\n      <td>...</td>\n    </tr>\n    <tr>\n      <th>683375</th>\n      <td>2015-08-12 15:10:07.000</td>\n      <td>24.686975</td>\n      <td>50.613579</td>\n      <td>2.748142e+06</td>\n      <td>6.553223e+06</td>\n    </tr>\n    <tr>\n      <th>64421</th>\n      <td>2014-05-04 13:15:08.000</td>\n      <td>34.682479</td>\n      <td>31.212205</td>\n      <td>3.860836e+06</td>\n      <td>3.660339e+06</td>\n    </tr>\n    <tr>\n      <th>481244</th>\n      <td>2014-09-04 16:10:06.000</td>\n      <td>27.112816</td>\n      <td>41.145275</td>\n      <td>3.018185e+06</td>\n      <td>5.033793e+06</td>\n    </tr>\n    <tr>\n      <th>571229</th>\n      <td>2015-04-12 07:25:06.000</td>\n      <td>37.671850</td>\n      <td>34.582185</td>\n      <td>4.193611e+06</td>\n      <td>4.107246e+06</td>\n    </tr>\n    <tr>\n      <th>542185</th>\n      <td>2014-11-30 06:30:07.000</td>\n      <td>44.382888</td>\n      <td>14.593182</td>\n      <td>4.940681e+06</td>\n      <td>1.642360e+06</td>\n    </tr>\n  </tbody>\n</table>\n<p>1000 rows × 5 columns</p>\n</div>"
     },
     "execution_count": 17,
     "metadata": {},
     "output_type": "execute_result"
    }
   ],
   "source": [
    "df"
   ],
   "metadata": {
    "collapsed": false,
    "ExecuteTime": {
     "end_time": "2024-01-11T23:12:20.133777100Z",
     "start_time": "2024-01-11T23:12:20.084770900Z"
    }
   },
   "id": "525fcc36f4b6d84e"
  },
  {
   "cell_type": "code",
   "execution_count": 18,
   "outputs": [],
   "source": [
    "# for this 1000 rows calculate distance to PW :)\n",
    "from utils.geo import distance_wgs84, distance_web_mercator\n",
    "# wgs84\n",
    "PW_LONG = 21.010833\n",
    "PW_LAT = 52.220404\n",
    "# web mercator\n",
    "PW_X = 2338915.2307025087\n",
    "PW_Y = 6840075.854762697\n",
    "\n",
    "df[\"distance_to_PW_wgs84\"] = df.apply(lambda row: distance_wgs84(PW_LAT, PW_LONG, row[\"location-lat\"], row[\"location-long\"]), axis=1)\n",
    "df[\"distance_to_PW_web_mercator\"] = df.apply(lambda row: distance_web_mercator(PW_X, PW_Y, row[\"x\"], row[\"y\"]), axis=1)"
   ],
   "metadata": {
    "collapsed": false,
    "ExecuteTime": {
     "end_time": "2024-01-11T23:12:21.002999900Z",
     "start_time": "2024-01-11T23:12:20.970338800Z"
    }
   },
   "id": "80a3cad374999a00"
  },
  {
   "cell_type": "code",
   "execution_count": 19,
   "outputs": [],
   "source": [
    "df[\"distance_diff\"] = df[\"distance_to_PW_wgs84\"] - df[\"distance_to_PW_web_mercator\"]"
   ],
   "metadata": {
    "collapsed": false,
    "ExecuteTime": {
     "end_time": "2024-01-11T23:12:22.382251400Z",
     "start_time": "2024-01-11T23:12:22.375250700Z"
    }
   },
   "id": "db770080e7a5f6fc"
  },
  {
   "cell_type": "code",
   "execution_count": 20,
   "outputs": [
    {
     "data": {
      "text/plain": "                      timestamp  location-long  location-lat             x  \\\n321739  2015-04-22 17:15:06.000      24.952204     21.670569  2.777667e+06   \n81806   2013-08-16 12:05:07.000      15.605860     52.060456  1.737236e+06   \n424580  2015-05-25 18:45:07.000      25.929859     48.921427  2.886499e+06   \n165976  2014-08-20 18:34:04.000      25.722648     49.702630  2.863432e+06   \n127824  2014-03-13 10:15:07.000      25.726304     10.924742  2.863839e+06   \n...                         ...            ...           ...           ...   \n683375  2015-08-12 15:10:07.000      24.686975     50.613579  2.748142e+06   \n64421   2014-05-04 13:15:08.000      34.682479     31.212205  3.860836e+06   \n481244  2014-09-04 16:10:06.000      27.112816     41.145275  3.018185e+06   \n571229  2015-04-12 07:25:06.000      37.671850     34.582185  4.193611e+06   \n542185  2014-11-30 06:30:07.000      44.382888     14.593182  4.940681e+06   \n\n                   y  distance_to_PW_wgs84  distance_to_PW_web_mercator  \\\n321739  2.472019e+06          3.407494e+06                 4.390037e+06   \n81806   6.811064e+06          3.703817e+05                 6.023778e+05   \n424580  6.261540e+06          5.058494e+05                 7.965876e+05   \n165976  6.394935e+06          4.334749e+05                 6.879450e+05   \n127824  1.223573e+06          4.599479e+06                 5.640979e+06   \n...              ...                   ...                          ...   \n683375  6.553223e+06          3.119639e+05                 4.997507e+05   \n64421   3.660339e+06          2.585869e+06                 3.525191e+06   \n481244  5.033793e+06          1.315522e+06                 1.929783e+06   \n571229  4.107246e+06          2.366922e+06                 3.302765e+06   \n542185  1.642360e+06          4.661114e+06                 5.812524e+06   \n\n        distance_diff  \n321739  -9.825435e+05  \n81806   -2.319961e+05  \n424580  -2.907382e+05  \n165976  -2.544701e+05  \n127824  -1.041500e+06  \n...               ...  \n683375  -1.877868e+05  \n64421   -9.393219e+05  \n481244  -6.142608e+05  \n571229  -9.358429e+05  \n542185  -1.151410e+06  \n\n[1000 rows x 8 columns]",
      "text/html": "<div>\n<style scoped>\n    .dataframe tbody tr th:only-of-type {\n        vertical-align: middle;\n    }\n\n    .dataframe tbody tr th {\n        vertical-align: top;\n    }\n\n    .dataframe thead th {\n        text-align: right;\n    }\n</style>\n<table border=\"1\" class=\"dataframe\">\n  <thead>\n    <tr style=\"text-align: right;\">\n      <th></th>\n      <th>timestamp</th>\n      <th>location-long</th>\n      <th>location-lat</th>\n      <th>x</th>\n      <th>y</th>\n      <th>distance_to_PW_wgs84</th>\n      <th>distance_to_PW_web_mercator</th>\n      <th>distance_diff</th>\n    </tr>\n  </thead>\n  <tbody>\n    <tr>\n      <th>321739</th>\n      <td>2015-04-22 17:15:06.000</td>\n      <td>24.952204</td>\n      <td>21.670569</td>\n      <td>2.777667e+06</td>\n      <td>2.472019e+06</td>\n      <td>3.407494e+06</td>\n      <td>4.390037e+06</td>\n      <td>-9.825435e+05</td>\n    </tr>\n    <tr>\n      <th>81806</th>\n      <td>2013-08-16 12:05:07.000</td>\n      <td>15.605860</td>\n      <td>52.060456</td>\n      <td>1.737236e+06</td>\n      <td>6.811064e+06</td>\n      <td>3.703817e+05</td>\n      <td>6.023778e+05</td>\n      <td>-2.319961e+05</td>\n    </tr>\n    <tr>\n      <th>424580</th>\n      <td>2015-05-25 18:45:07.000</td>\n      <td>25.929859</td>\n      <td>48.921427</td>\n      <td>2.886499e+06</td>\n      <td>6.261540e+06</td>\n      <td>5.058494e+05</td>\n      <td>7.965876e+05</td>\n      <td>-2.907382e+05</td>\n    </tr>\n    <tr>\n      <th>165976</th>\n      <td>2014-08-20 18:34:04.000</td>\n      <td>25.722648</td>\n      <td>49.702630</td>\n      <td>2.863432e+06</td>\n      <td>6.394935e+06</td>\n      <td>4.334749e+05</td>\n      <td>6.879450e+05</td>\n      <td>-2.544701e+05</td>\n    </tr>\n    <tr>\n      <th>127824</th>\n      <td>2014-03-13 10:15:07.000</td>\n      <td>25.726304</td>\n      <td>10.924742</td>\n      <td>2.863839e+06</td>\n      <td>1.223573e+06</td>\n      <td>4.599479e+06</td>\n      <td>5.640979e+06</td>\n      <td>-1.041500e+06</td>\n    </tr>\n    <tr>\n      <th>...</th>\n      <td>...</td>\n      <td>...</td>\n      <td>...</td>\n      <td>...</td>\n      <td>...</td>\n      <td>...</td>\n      <td>...</td>\n      <td>...</td>\n    </tr>\n    <tr>\n      <th>683375</th>\n      <td>2015-08-12 15:10:07.000</td>\n      <td>24.686975</td>\n      <td>50.613579</td>\n      <td>2.748142e+06</td>\n      <td>6.553223e+06</td>\n      <td>3.119639e+05</td>\n      <td>4.997507e+05</td>\n      <td>-1.877868e+05</td>\n    </tr>\n    <tr>\n      <th>64421</th>\n      <td>2014-05-04 13:15:08.000</td>\n      <td>34.682479</td>\n      <td>31.212205</td>\n      <td>3.860836e+06</td>\n      <td>3.660339e+06</td>\n      <td>2.585869e+06</td>\n      <td>3.525191e+06</td>\n      <td>-9.393219e+05</td>\n    </tr>\n    <tr>\n      <th>481244</th>\n      <td>2014-09-04 16:10:06.000</td>\n      <td>27.112816</td>\n      <td>41.145275</td>\n      <td>3.018185e+06</td>\n      <td>5.033793e+06</td>\n      <td>1.315522e+06</td>\n      <td>1.929783e+06</td>\n      <td>-6.142608e+05</td>\n    </tr>\n    <tr>\n      <th>571229</th>\n      <td>2015-04-12 07:25:06.000</td>\n      <td>37.671850</td>\n      <td>34.582185</td>\n      <td>4.193611e+06</td>\n      <td>4.107246e+06</td>\n      <td>2.366922e+06</td>\n      <td>3.302765e+06</td>\n      <td>-9.358429e+05</td>\n    </tr>\n    <tr>\n      <th>542185</th>\n      <td>2014-11-30 06:30:07.000</td>\n      <td>44.382888</td>\n      <td>14.593182</td>\n      <td>4.940681e+06</td>\n      <td>1.642360e+06</td>\n      <td>4.661114e+06</td>\n      <td>5.812524e+06</td>\n      <td>-1.151410e+06</td>\n    </tr>\n  </tbody>\n</table>\n<p>1000 rows × 8 columns</p>\n</div>"
     },
     "execution_count": 20,
     "metadata": {},
     "output_type": "execute_result"
    }
   ],
   "source": [
    "df"
   ],
   "metadata": {
    "collapsed": false,
    "ExecuteTime": {
     "end_time": "2024-01-11T23:12:22.969913Z",
     "start_time": "2024-01-11T23:12:22.953914700Z"
    }
   },
   "id": "c914a611db54cc54"
  },
  {
   "cell_type": "code",
   "execution_count": 21,
   "outputs": [
    {
     "data": {
      "text/plain": "count    1.000000e+03\nmean    -6.449028e+05\nstd      4.097528e+05\nmin     -1.151766e+06\n25%     -1.032270e+06\n50%     -7.421978e+05\n75%     -1.626588e+05\nmax     -7.778779e+04\nName: distance_diff, dtype: float64"
     },
     "execution_count": 21,
     "metadata": {},
     "output_type": "execute_result"
    }
   ],
   "source": [
    "df[\"distance_diff\"].describe()"
   ],
   "metadata": {
    "collapsed": false,
    "ExecuteTime": {
     "end_time": "2024-01-11T23:13:27.173284600Z",
     "start_time": "2024-01-11T23:13:27.158284700Z"
    }
   },
   "id": "a118342fbb1a0c3b"
  },
  {
   "cell_type": "code",
   "execution_count": null,
   "outputs": [],
   "source": [],
   "metadata": {
    "collapsed": false
   },
   "id": "b808e66f5996be61"
  },
  {
   "cell_type": "code",
   "execution_count": null,
   "outputs": [],
   "source": [],
   "metadata": {
    "collapsed": false
   },
   "id": "84c58f7ebac7b2a5"
  },
  {
   "cell_type": "markdown",
   "source": [
    "#### APPLY GRID ON WGS84 DATA"
   ],
   "metadata": {
    "collapsed": false
   },
   "id": "a60c6feaa72a5a55"
  },
  {
   "cell_type": "code",
   "execution_count": 22,
   "outputs": [],
   "source": [
    "df = pd.read_csv('data/stroke_migration/LifeTrack_white_stork_clean.csv')"
   ],
   "metadata": {
    "collapsed": false,
    "ExecuteTime": {
     "end_time": "2024-01-11T23:21:38.415309300Z",
     "start_time": "2024-01-11T23:21:37.328372800Z"
    }
   },
   "id": "18ebe609e21523f2"
  },
  {
   "cell_type": "code",
   "execution_count": 26,
   "outputs": [
    {
     "data": {
      "text/plain": "0         2013-07-16 12:04:53.000\n1         2013-07-16 12:10:06.000\n2         2013-07-16 12:15:07.000\n3         2013-07-16 12:20:06.000\n4         2013-07-16 12:25:07.000\n                   ...           \n751670    2015-07-19 15:10:51.000\n751671    2015-07-19 15:21:08.000\n751672    2015-07-19 15:21:08.000\n751673    2015-07-19 15:42:29.000\n751674    2015-07-19 15:42:29.000\nName: date, Length: 751675, dtype: object"
     },
     "execution_count": 26,
     "metadata": {},
     "output_type": "execute_result"
    }
   ],
   "source": [
    "df[\"date\"]"
   ],
   "metadata": {
    "collapsed": false,
    "ExecuteTime": {
     "end_time": "2024-01-11T23:24:51.504244300Z",
     "start_time": "2024-01-11T23:24:51.495243500Z"
    }
   },
   "id": "d2a32fe7dc7a0c05"
  },
  {
   "cell_type": "code",
   "execution_count": 23,
   "outputs": [
    {
     "data": {
      "text/plain": "count    751675.000000\nmean         33.468379\nstd          18.590866\nmin         -26.925186\n25%          14.585777\n50%          39.074386\n75%          52.738268\nmax          54.155769\nName: location-lat, dtype: float64"
     },
     "execution_count": 23,
     "metadata": {},
     "output_type": "execute_result"
    }
   ],
   "source": [
    "df[\"location-lat\"].describe()"
   ],
   "metadata": {
    "collapsed": false,
    "ExecuteTime": {
     "end_time": "2024-01-11T23:21:53.407451Z",
     "start_time": "2024-01-11T23:21:53.372441500Z"
    }
   },
   "id": "cfaeab76aa25a5fb"
  },
  {
   "cell_type": "code",
   "execution_count": 24,
   "outputs": [
    {
     "data": {
      "text/plain": "count    751675.000000\nmean         27.647333\nstd           7.044562\nmin          13.547600\n25%          22.484694\n50%          26.274487\n75%          33.629192\nmax          44.437650\nName: location-long, dtype: float64"
     },
     "execution_count": 24,
     "metadata": {},
     "output_type": "execute_result"
    }
   ],
   "source": [
    "df[\"location-long\"].describe()"
   ],
   "metadata": {
    "collapsed": false,
    "ExecuteTime": {
     "end_time": "2024-01-11T23:22:23.546431700Z",
     "start_time": "2024-01-11T23:22:23.512882400Z"
    }
   },
   "id": "1829e5f577f32ca9"
  }
 ],
 "metadata": {
  "kernelspec": {
   "display_name": "Python 3",
   "language": "python",
   "name": "python3"
  },
  "language_info": {
   "codemirror_mode": {
    "name": "ipython",
    "version": 2
   },
   "file_extension": ".py",
   "mimetype": "text/x-python",
   "name": "python",
   "nbconvert_exporter": "python",
   "pygments_lexer": "ipython2",
   "version": "2.7.6"
  }
 },
 "nbformat": 4,
 "nbformat_minor": 5
}
