{
 "cells": [
  {
   "cell_type": "code",
   "execution_count": 1,
   "id": "c6e0b890-d455-4366-929b-e2ecbe61f3cf",
   "metadata": {},
   "outputs": [],
   "source": [
    "import pandas as pd"
   ]
  },
  {
   "cell_type": "code",
   "execution_count": 2,
   "id": "cb4420da-ce4f-45eb-82d0-806bbd20ba80",
   "metadata": {},
   "outputs": [],
   "source": [
    "df = pd.read_csv('LifeTrack_white_stork_clean.csv')"
   ]
  },
  {
   "cell_type": "code",
   "execution_count": 3,
   "id": "73456b61-a5be-4738-ae56-4241e1b8c488",
   "metadata": {},
   "outputs": [
    {
     "name": "stdout",
     "output_type": "stream",
     "text": [
      "ile jest opasek: \n",
      "24\n"
     ]
    }
   ],
   "source": [
    "print('ile jest opasek: ')\n",
    "print(df['tag-local-identifier'].nunique())"
   ]
  },
  {
   "cell_type": "code",
   "execution_count": 4,
   "id": "c725733a-dddb-4e91-acd7-4c7ecab97628",
   "metadata": {},
   "outputs": [],
   "source": [
    "# kolumna poszczegolnych przelotow\n",
    "# 1 na koncu id oznacza pl->afr\n",
    "# 2 na koncu id oznacza afr->pl\n",
    "# data graniczna to 1.02.2014\n",
    "df['road_id'] = None "
   ]
  },
  {
   "cell_type": "code",
   "execution_count": 5,
   "id": "fa50a498-4a2d-4468-aa6b-95844e2944d3",
   "metadata": {},
   "outputs": [],
   "source": [
    "for tag_id in df['tag-local-identifier'].unique():\n",
    "    condition = (df['tag-local-identifier'] == tag_id)\n",
    "    \n",
    "    condition_1 = (pd.to_datetime(df['date']) < pd.to_datetime(\"2014-02-01\"))\n",
    "    condition_2 = ~condition_1\n",
    "\n",
    "    df.loc[condition & condition_1, 'road_id'] = f'{tag_id}1'\n",
    "    df.loc[condition & condition_2, 'road_id'] = f'{tag_id}2'"
   ]
  },
  {
   "cell_type": "code",
   "execution_count": 6,
   "id": "651a6f82-927c-4dc5-8486-c68495331170",
   "metadata": {},
   "outputs": [],
   "source": [
    "df.to_csv('road_id_stork.csv', index=False)"
   ]
  },
  {
   "cell_type": "code",
   "execution_count": 7,
   "id": "d14c1c85-465a-4534-8b24-34f3baeb3f3c",
   "metadata": {},
   "outputs": [
    {
     "name": "stdout",
     "output_type": "stream",
     "text": [
      "road id z najwieksza liczba punktow\n",
      "30482\n"
     ]
    }
   ],
   "source": [
    "df['date'] = pd.to_datetime(df['date'])\n",
    "max_time_diff_row = df.groupby('road_id')['date'].agg(lambda x: x.max() - x.min()).idxmax()\n",
    "print('road id z najwieksza liczba punktow')\n",
    "print(max_time_diff_row)"
   ]
  },
  {
   "cell_type": "code",
   "execution_count": 8,
   "id": "3a1a7ba4-0d2f-42db-ac29-a118fa217dcb",
   "metadata": {},
   "outputs": [
    {
     "name": "stdout",
     "output_type": "stream",
     "text": [
      "najmniejsza liczba punktow przelotu\n",
      "3704\n"
     ]
    }
   ],
   "source": [
    "min_rows_tag = df['road_id'].value_counts().idxmin()\n",
    "min_rows_count = df['road_id'].value_counts().min()\n",
    "print('najmniejsza liczba punktow przelotu')\n",
    "print(min_rows_count)"
   ]
  },
  {
   "cell_type": "code",
   "execution_count": 9,
   "id": "c5fc9053-cd48-4d96-9fb3-12b5b6cfa741",
   "metadata": {},
   "outputs": [
    {
     "name": "stdout",
     "output_type": "stream",
     "text": [
      "najwieksza liczba punktow przelotu\n",
      "103046\n"
     ]
    }
   ],
   "source": [
    "max_rows_tag = df['road_id'].value_counts().idxmax()\n",
    "max_rows_count = df['road_id'].value_counts().max()\n",
    "print('najwieksza liczba punktow przelotu')\n",
    "print(max_rows_count)"
   ]
  },
  {
   "cell_type": "code",
   "execution_count": 10,
   "id": "54e79c54-e04d-4390-a757-74b0709ce165",
   "metadata": {},
   "outputs": [
    {
     "name": "stdout",
     "output_type": "stream",
     "text": [
      "Road id z najkrótszym czasem: 45712\n",
      "Najkrótszy czas dla tego Road id: 1453343.0 sekund\n",
      "16.821099537037036 dni\n"
     ]
    }
   ],
   "source": [
    "min_time_diff_row = df.groupby('road_id')['date'].agg(lambda x: (x.max() - x.min()).total_seconds()).idxmin()\n",
    "min_time_diff = (df.groupby('road_id')['date'].agg(lambda x: (x.max() - x.min()).total_seconds())).min()\n",
    "\n",
    "print(f'Road id z najkrótszym czasem: {min_time_diff_row}')\n",
    "print(f'Najkrótszy czas dla tego Road id: {min_time_diff} sekund')\n",
    "min_time_diff_days = min_time_diff / (24 * 60 * 60)\n",
    "print(f'{min_time_diff_days} dni')"
   ]
  }
 ],
 "metadata": {
  "kernelspec": {
   "display_name": "Python 3 (ipykernel)",
   "language": "python",
   "name": "python3"
  },
  "language_info": {
   "codemirror_mode": {
    "name": "ipython",
    "version": 3
   },
   "file_extension": ".py",
   "mimetype": "text/x-python",
   "name": "python",
   "nbconvert_exporter": "python",
   "pygments_lexer": "ipython3",
   "version": "3.10.6"
  }
 },
 "nbformat": 4,
 "nbformat_minor": 5
}
